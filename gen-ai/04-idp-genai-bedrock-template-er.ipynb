{
 "cells": [
  {
   "cell_type": "markdown",
   "id": "518e1152-932f-4a62-9e3f-e434b9440c1c",
   "metadata": {},
   "source": [
    "## Intelligent Document processing entity-extraction- templating, & normalizations with Amazon Bedrock\n",
    "---\n",
    "\n",
    "<div class=\"alert alert-block alert-info\"> \n",
    "    <b>NOTE:</b> You will need to use a Jupyter Kernel with Python 3.9 or above to use this notebook. If you are in Amazon SageMaker Studio, you can use the \"Data Science 3.0\" image.\n",
    "</div>\n",
    "\n",
    "<div class=\"alert alert-block alert-warning\"> \n",
    "    <b>NOTE:</b> You will need 3rd party model access to Anthropic Claude V1 model to be able to run this notebook. Verify if you have access to the model by going to <a href=\"https://console.aws.amazon.com/bedrock\" target=\"_blank\">Amazon Bedrock console</a> > left menu \"Model access\". The \"Access status\" for Anthropic Claude must be in \"Access granted\" status in green. If you do not have access, then click \"Edit\" button on the top right > select the model checkbox > click \"Save changes\" button at the bottom. You should have access to the model within a few moments.\n",
    "</div>\n",
    "\n",
    "In this notebook we will walk through how to perform _\"templating, normalizations, and entity extractions\"_ from text in documents. We will be using a combination Amazon Textract using `AnalyzeDocument` API with `FORM` feature."
   ]
  },
  {
   "cell_type": "code",
   "execution_count": null,
   "id": "2c8cb7b8-279e-498f-8d26-477f286f357a",
   "metadata": {
    "tags": []
   },
   "outputs": [],
   "source": [
    "!pip install -U boto3 langchain\n",
    "!pip install amazon-textract-textractor amazon-textract-prettyprinter pypdf Pillow"
   ]
  },
  {
   "cell_type": "code",
   "execution_count": null,
   "id": "0b6d2070-7317-4c35-8e35-732273765b96",
   "metadata": {
    "tags": []
   },
   "outputs": [],
   "source": [
    "import json\n",
    "import os\n",
    "import sys\n",
    "import sagemaker\n",
    "import boto3\n",
    "\n",
    "role = sagemaker.get_execution_role()\n",
    "data_bucket = sagemaker.Session().default_bucket()\n",
    "bedrock = boto3.client('bedrock-runtime')\n",
    "br = boto3.client('bedrock')\n",
    "s3 = boto3.client('s3')\n",
    "textract = boto3.client('textract')\n",
    "print(f\"SageMaker bucket is {data_bucket}, and SageMaker Execution Role is {role}\")"
   ]
  },
  {
   "cell_type": "code",
   "execution_count": null,
   "id": "2a6fe007-3282-4f62-b087-f5f9a50001d4",
   "metadata": {
    "tags": []
   },
   "outputs": [],
   "source": [
    "# lets assume a role for calling bedrock\n",
    "from helper import get_bedrock_clients\n",
    "os.environ[\"BEDROCK_ASSUME_ROLE\"] = \"arn:aws:iam::566248522422:role/Crossaccountbedrock\"  # E.g. \"arn:aws:...\"\n",
    "bedrock,br = get_bedrock_clients()"
   ]
  },
  {
   "cell_type": "markdown",
   "id": "3b3789c0-11da-4da8-a7a1-d0268399c74f",
   "metadata": {},
   "source": [
    "# Templating & Normalizations\n",
    "---\n",
    "\n",
    "The most common way to extract information out of documents is via key-value pairs. At times you may want the output from your document to be in a specific format so that it's much easier to consume in your downstream system. One way is to specify a template of the the output structure.\n",
    "\n",
    "In this notebook we will use a document that has Form components in it as well as some dense text that is in columnar section. We will use Amazon Textract's layout feature to read the document in the correct reading order. However our final goal is to get a specific set of information (entities) in a specific format so that we can easily consume the output later downstream.\n",
    "\n",
    "Let's take a look at the document."
   ]
  },
  {
   "cell_type": "code",
   "execution_count": null,
   "id": "b8e0d8dd-4432-4359-8f10-ecf229669285",
   "metadata": {
    "tags": []
   },
   "outputs": [],
   "source": [
    "from IPython.display import Image\n",
    "Image(filename='./samples/discharge-summary.png',width=500)"
   ]
  },
  {
   "cell_type": "markdown",
   "id": "e5d66e7c-31de-47a9-b1d3-da30c6a2067d",
   "metadata": {},
   "source": [
    "We will try to extract the following information from the document in key-value pair format.\n",
    "\n",
    "- Doctor's name\n",
    "- Provider ID\n",
    "- Patient's name\n",
    "- Patient ID\n",
    "- Patient gender\n",
    "- Patient age\n",
    "- Admitted date\n",
    "- Discharge date\n",
    "- Discharged to\n",
    "- Drug allergies\n",
    "- Patient Medical history\n",
    "- Family medical history\n",
    "- Social habits\n",
    "\n",
    "Let's read the document first"
   ]
  },
  {
   "cell_type": "code",
   "execution_count": null,
   "id": "9cacadbf-f104-4aa0-bfc9-350e668da6ad",
   "metadata": {
    "scrolled": true,
    "tags": []
   },
   "outputs": [],
   "source": [
    "documentName=\"./samples/discharge-summary.png\"\n",
    "with open(documentName, 'rb') as document:\n",
    "    imageBytes = bytearray(document.read())\n",
    "    \n",
    "response = textract.analyze_document(Document={'Bytes': imageBytes},FeatureTypes=['LAYOUT'])\n",
    "response"
   ]
  },
  {
   "cell_type": "markdown",
   "id": "c5387b17-e764-4a32-8514-1b5898cd49fa",
   "metadata": {},
   "source": [
    "Let's get the text extracted by the LAYOUT feature. We have written a small linearizer function that generates the text in the proper reading order."
   ]
  },
  {
   "cell_type": "code",
   "execution_count": null,
   "id": "9cfac9ed-97c7-49d9-8f63-c3f00e839c89",
   "metadata": {
    "scrolled": true,
    "tags": []
   },
   "outputs": [],
   "source": [
    "from textract_linearize_layout import LinearizeLayout\n",
    "layout = LinearizeLayout(response)\n",
    "full_text = layout.get_text()[1].strip()\n",
    "print(full_text)"
   ]
  },
  {
   "cell_type": "markdown",
   "id": "9f2d5534-d116-4265-bddf-df6dfe8c2808",
   "metadata": {},
   "source": [
    "### Define the extraction template\n",
    "---\n",
    "Based on the fields we need to extract, we will define a template that will be used by the LLM to extract the entities."
   ]
  },
  {
   "cell_type": "code",
   "execution_count": null,
   "id": "9267149d-fe4a-4aba-a09d-593cc392aabd",
   "metadata": {
    "tags": []
   },
   "outputs": [],
   "source": [
    "# import json\n",
    "output_template= {\n",
    "    \"doctor_name\":{ \"type\": \"string\", \"description\": \"The doctor or provider's full name\" },\n",
    "    \"provider_id\":{ \"type\": \"string\", \"description\": \"The doctor or provider's ID\" },\n",
    "    \"patient_name\":{ \"type\": \"string\", \"description\": \"The patient's full name\" },\n",
    "    \"patient_id\":{ \"type\": \"string\", \"description\": \"The patient's ID\" },\n",
    "    \"patient_gender\":{ \"type\": \"string\", \"description\": \"The patient's gender\" },\n",
    "    \"patient_age\":{ \"type\": \"number\",  \"description\": \"The patient's age\" },\n",
    "    \"admitted_date\":{ \"type\": \"string\",  \"description\": \"Date the patient was admitted to the hospital\" },\n",
    "    \"discharge_date\":{ \"type\": \"string\",  \"description\": \"Date the patient was discharged from the hospital\" },\n",
    "    \"discharged_to\":{ \"type\": \"string\",  \"description\": \"The disposition of where the patient was released or discharged to\" },\n",
    "    \"drug_allergies\":{ \"type\": \"string\",  \"description\": \"The patient's known drug allergies (NKDA)\" },\n",
    "    \"patient_medical_history\":{ \"type\": \"string\",  \"description\": \"The patient's medical history (PMHx)\" },\n",
    "    \"family_medical_history\":{ \"type\": \"string\",  \"description\": \"The patient's family medical history (FHx)\" },\n",
    "    \"social_habits\":{ \"type\": \"string\",  \"description\": \"The patient's social habits (Social HX)\" },\n",
    "}"
   ]
  },
  {
   "cell_type": "code",
   "execution_count": null,
   "id": "f130578e-e406-4843-b3be-169873535440",
   "metadata": {
    "tags": []
   },
   "outputs": [],
   "source": [
    "from langchain.llms import Bedrock\n",
    "from langchain.prompts import PromptTemplate\n",
    "from langchain.chains import LLMChain\n",
    "\n",
    "template = \"\"\"\n",
    "\n",
    "You are a helpful assistant. Please extract the following details from the document and format the output as JSON using the keys. Skip any preamble text and generate the final answer.\n",
    "\n",
    "<details>\n",
    "{details}\n",
    "</details>\n",
    "\n",
    "<keys>\n",
    "{keys}\n",
    "</keys>\n",
    "\n",
    "<document>\n",
    "{doc_text}\n",
    "<document>\n",
    "\n",
    "<final_answer>\"\"\"\n",
    "\n",
    "details = \"\\n\".join([f\"{key}: {value['description']}\" for key, value in output_template.items()])\n",
    "keys = \"\\n\".join([f\"{key}\" for key, value in output_template.items()])\n",
    "\n",
    "prompt = PromptTemplate(template=template, input_variables=[\"details\", \"keys\", \"doc_text\"])\n",
    "bedrock_llm = Bedrock(client=bedrock, model_id=\"anthropic.claude-v1\")\n",
    "\n",
    "llm_chain = LLMChain(prompt=prompt, llm=bedrock_llm)\n",
    "output = llm_chain.run({\"doc_text\": full_text, \"details\": details, \"keys\": keys})\n",
    "\n",
    "print(output)"
   ]
  },
  {
   "cell_type": "markdown",
   "id": "e9568479-71de-49f5-9d87-ed8d27674128",
   "metadata": {
    "tags": []
   },
   "source": [
    "### More Structure with LangChain Response Schemas\n",
    "---\n",
    "\n",
    "In the above example we were providing `keys` and `details` to the prompt template by creating strings from the extraction template. A better way is to use LangChain `ResponseSchema` to define the schema, and then use a `StructuredOutputParser` which will generate the format instruction for the LLM. We can then use that format instruction with our prompt template and subsequently even use the output parser to get a dictionary output that can be later consumed very easily.\n",
    "\n",
    "In the following code cell, we use our `output_template` to create the format instruction text, and also initialize an `output_parser` that will be later used to parse the output."
   ]
  },
  {
   "cell_type": "code",
   "execution_count": null,
   "id": "d40abae8-bf93-4572-8e9c-cf8ac172ee97",
   "metadata": {
    "tags": []
   },
   "outputs": [],
   "source": [
    "from langchain.output_parsers import ResponseSchema\n",
    "from langchain.output_parsers import StructuredOutputParser\n",
    "\n",
    "response_schems = list()\n",
    "\n",
    "for key, value in output_template.items():\n",
    "    schema = ResponseSchema(name=key, description=value['description'], type=value['type'])\n",
    "    response_schems.append(schema)\n",
    "output_parser = StructuredOutputParser.from_response_schemas(response_schems)\n",
    "format_instructions= output_parser.get_format_instructions()\n",
    "print(format_instructions)"
   ]
  },
  {
   "cell_type": "markdown",
   "id": "04966ddc-4549-4144-81c8-c807217ebb08",
   "metadata": {},
   "source": [
    "Our code here is pretty similar to before with the exception of the format instructions in the prompt template. We also instruct the model to strictly adhere to the format instructions when generating the output, so that our `output_parser` can parse it."
   ]
  },
  {
   "cell_type": "code",
   "execution_count": null,
   "id": "cf8d0b6e-8c71-48fb-b2e5-5232edd2a436",
   "metadata": {
    "tags": []
   },
   "outputs": [],
   "source": [
    "from langchain.llms import Bedrock\n",
    "from langchain.prompts import PromptTemplate\n",
    "from langchain.chains import LLMChain\n",
    "\n",
    "template = \"\"\"\n",
    "\n",
    "You are a helpful assistant. Please extract the following details from the document and strictly follow the instructions described in the format instructions to format the output. Skip any preamble text and generate the final answer. Do not generate incomplete answer.\n",
    "\n",
    "<details>\n",
    "{details}\n",
    "</details>\n",
    "\n",
    "<format_instructions>\n",
    "{format_instructions}\n",
    "</format_instructions>\n",
    "\n",
    "<document>\n",
    "{doc_text}\n",
    "<document>\n",
    "\n",
    "<final_answer>\"\"\"\n",
    "\n",
    "details = \"\\n\".join([f\"{key}: {value['description']}\" for key, value in output_template.items()])\n",
    "keys = \"\\n\".join([f\"{key}\" for key, value in output_template.items()])\n",
    "\n",
    "prompt = PromptTemplate(template=template, input_variables=[\"details\", \"format_instructions\", \"doc_text\"])\n",
    "bedrock_llm = Bedrock(client=bedrock, model_id=\"anthropic.claude-v1\")\n",
    "\n",
    "llm_chain = LLMChain(prompt=prompt, llm=bedrock_llm)\n",
    "output = llm_chain.run({\"doc_text\": full_text, \"details\": details, \"format_instructions\": format_instructions})\n",
    "\n",
    "parsed_output= output_parser.parse(output)\n",
    "parsed_output"
   ]
  },
  {
   "cell_type": "code",
   "execution_count": null,
   "id": "c32f1137-9aaf-4d66-8dc4-13f8b177db7f",
   "metadata": {
    "tags": []
   },
   "outputs": [],
   "source": [
    "type(parsed_output)"
   ]
  },
  {
   "cell_type": "code",
   "execution_count": null,
   "id": "768b1210-7137-4ec0-b3d1-49702acd1f72",
   "metadata": {
    "tags": []
   },
   "outputs": [],
   "source": [
    "parsed_output['doctor_name']"
   ]
  },
  {
   "cell_type": "markdown",
   "id": "15a411c6-cdfa-40d1-98e7-ea7f964da770",
   "metadata": {},
   "source": [
    "# Value standardization\n",
    "---\n",
    "\n",
    "We were able to get structured key-values out of the document using the LLM so far. We would also like to standardize some of the outputs. For example we would like the dates in the output to be of DD/MM/YYYY format instead of DD-Mon-YYYY format. Let's see if we can quickly update the format instructions to achieve this.\n",
    "\n",
    "For the two date key's we have added an additional instruction ` This should be formatted in DD/MM/YYYY format.`"
   ]
  },
  {
   "cell_type": "code",
   "execution_count": null,
   "id": "da614708-7221-4ce2-aa40-44667b88ea20",
   "metadata": {
    "tags": []
   },
   "outputs": [],
   "source": [
    "# import json\n",
    "new_output_template= {\n",
    "    \"doctor_name\":{ \"type\": \"string\", \"description\": \"The doctor or provider's full name\" },\n",
    "    \"provider_id\":{ \"type\": \"string\", \"description\": \"The doctor or provider's ID\" },\n",
    "    \"patient_name\":{ \"type\": \"string\", \"description\": \"The patient's full name\" },\n",
    "    \"patient_id\":{ \"type\": \"string\", \"description\": \"The patient's ID\" },\n",
    "    \"patient_gender\":{ \"type\": \"string\", \"description\": \"The patient's gender\" },\n",
    "    \"patient_age\":{ \"type\": \"number\",  \"description\": \"The patient's age\" },\n",
    "    \"admitted_date\":{ \"type\": \"string\",  \"description\": \"Date the patient was admitted to the hospital, this should be formatted in DD/MM/YYYY format.\" },\n",
    "    \"discharge_date\":{ \"type\": \"string\",  \"description\": \"Date the patient was discharged from the hospital, this should be formatted in DD/MM/YYYY format.\" },\n",
    "    \"discharged_to\":{ \"type\": \"string\",  \"description\": \"The disposition of where the patient was released or discharged to\" },\n",
    "    \"drug_allergies\":{ \"type\": \"string\",  \"description\": \"The patient's known drug allergies (NKDA)\" },\n",
    "    \"patient_medical_history\":{ \"type\": \"string\",  \"description\": \"The patient's medical history (PMHx)\" },\n",
    "    \"family_medical_history\":{ \"type\": \"string\",  \"description\": \"The patient's family medical history (FHx)\" },\n",
    "    \"social_habits\":{ \"type\": \"string\",  \"description\": \"The patient's social habits (Social HX)\" },\n",
    "}"
   ]
  },
  {
   "cell_type": "code",
   "execution_count": null,
   "id": "a4a7961f-1cc8-4d61-96dc-3c886b819b94",
   "metadata": {
    "tags": []
   },
   "outputs": [],
   "source": [
    "from langchain.output_parsers import ResponseSchema\n",
    "from langchain.output_parsers import StructuredOutputParser\n",
    "\n",
    "response_schemas = list()\n",
    "\n",
    "for key, value in new_output_template.items():\n",
    "    schema = ResponseSchema(name=key, description=value['description'], type=value['type'])\n",
    "    response_schemas.append(schema)\n",
    "    \n",
    "new_output_parser = StructuredOutputParser.from_response_schemas(response_schemas)\n",
    "new_format_instructions= new_output_parser.get_format_instructions()\n",
    "print(new_format_instructions)"
   ]
  },
  {
   "cell_type": "code",
   "execution_count": null,
   "id": "9fb9834c-178f-4d9a-a4fa-64f50acfaf77",
   "metadata": {
    "tags": []
   },
   "outputs": [],
   "source": [
    "output = llm_chain.run({\"doc_text\": full_text, \"details\": details, \"format_instructions\": new_format_instructions})\n",
    "\n",
    "parsed_output= new_output_parser.parse(output)\n",
    "parsed_output"
   ]
  },
  {
   "cell_type": "code",
   "execution_count": null,
   "id": "a13c8185-0c44-4e3d-97fe-30ad5bc015c2",
   "metadata": {
    "tags": []
   },
   "outputs": [],
   "source": [
    "print(parsed_output['admitted_date'])\n",
    "print(parsed_output['discharge_date'])"
   ]
  },
  {
   "cell_type": "code",
   "execution_count": null,
   "id": "2716d6a7-bc69-4751-a7d1-2882895e775e",
   "metadata": {},
   "outputs": [],
   "source": []
  },
  {
   "cell_type": "code",
   "execution_count": null,
   "id": "aec6bbe7-1d72-4aea-ae46-7b1a95cc8cc3",
   "metadata": {},
   "outputs": [],
   "source": []
  },
  {
   "cell_type": "code",
   "execution_count": null,
   "id": "ce8b9aca-1d7d-4907-bd38-0803d177b147",
   "metadata": {},
   "outputs": [],
   "source": []
  }
 ],
 "metadata": {
  "availableInstances": [
   {
    "_defaultOrder": 0,
    "_isFastLaunch": true,
    "category": "General purpose",
    "gpuNum": 0,
    "hideHardwareSpecs": false,
    "memoryGiB": 4,
    "name": "ml.t3.medium",
    "vcpuNum": 2
   },
   {
    "_defaultOrder": 1,
    "_isFastLaunch": false,
    "category": "General purpose",
    "gpuNum": 0,
    "hideHardwareSpecs": false,
    "memoryGiB": 8,
    "name": "ml.t3.large",
    "vcpuNum": 2
   },
   {
    "_defaultOrder": 2,
    "_isFastLaunch": false,
    "category": "General purpose",
    "gpuNum": 0,
    "hideHardwareSpecs": false,
    "memoryGiB": 16,
    "name": "ml.t3.xlarge",
    "vcpuNum": 4
   },
   {
    "_defaultOrder": 3,
    "_isFastLaunch": false,
    "category": "General purpose",
    "gpuNum": 0,
    "hideHardwareSpecs": false,
    "memoryGiB": 32,
    "name": "ml.t3.2xlarge",
    "vcpuNum": 8
   },
   {
    "_defaultOrder": 4,
    "_isFastLaunch": true,
    "category": "General purpose",
    "gpuNum": 0,
    "hideHardwareSpecs": false,
    "memoryGiB": 8,
    "name": "ml.m5.large",
    "vcpuNum": 2
   },
   {
    "_defaultOrder": 5,
    "_isFastLaunch": false,
    "category": "General purpose",
    "gpuNum": 0,
    "hideHardwareSpecs": false,
    "memoryGiB": 16,
    "name": "ml.m5.xlarge",
    "vcpuNum": 4
   },
   {
    "_defaultOrder": 6,
    "_isFastLaunch": false,
    "category": "General purpose",
    "gpuNum": 0,
    "hideHardwareSpecs": false,
    "memoryGiB": 32,
    "name": "ml.m5.2xlarge",
    "vcpuNum": 8
   },
   {
    "_defaultOrder": 7,
    "_isFastLaunch": false,
    "category": "General purpose",
    "gpuNum": 0,
    "hideHardwareSpecs": false,
    "memoryGiB": 64,
    "name": "ml.m5.4xlarge",
    "vcpuNum": 16
   },
   {
    "_defaultOrder": 8,
    "_isFastLaunch": false,
    "category": "General purpose",
    "gpuNum": 0,
    "hideHardwareSpecs": false,
    "memoryGiB": 128,
    "name": "ml.m5.8xlarge",
    "vcpuNum": 32
   },
   {
    "_defaultOrder": 9,
    "_isFastLaunch": false,
    "category": "General purpose",
    "gpuNum": 0,
    "hideHardwareSpecs": false,
    "memoryGiB": 192,
    "name": "ml.m5.12xlarge",
    "vcpuNum": 48
   },
   {
    "_defaultOrder": 10,
    "_isFastLaunch": false,
    "category": "General purpose",
    "gpuNum": 0,
    "hideHardwareSpecs": false,
    "memoryGiB": 256,
    "name": "ml.m5.16xlarge",
    "vcpuNum": 64
   },
   {
    "_defaultOrder": 11,
    "_isFastLaunch": false,
    "category": "General purpose",
    "gpuNum": 0,
    "hideHardwareSpecs": false,
    "memoryGiB": 384,
    "name": "ml.m5.24xlarge",
    "vcpuNum": 96
   },
   {
    "_defaultOrder": 12,
    "_isFastLaunch": false,
    "category": "General purpose",
    "gpuNum": 0,
    "hideHardwareSpecs": false,
    "memoryGiB": 8,
    "name": "ml.m5d.large",
    "vcpuNum": 2
   },
   {
    "_defaultOrder": 13,
    "_isFastLaunch": false,
    "category": "General purpose",
    "gpuNum": 0,
    "hideHardwareSpecs": false,
    "memoryGiB": 16,
    "name": "ml.m5d.xlarge",
    "vcpuNum": 4
   },
   {
    "_defaultOrder": 14,
    "_isFastLaunch": false,
    "category": "General purpose",
    "gpuNum": 0,
    "hideHardwareSpecs": false,
    "memoryGiB": 32,
    "name": "ml.m5d.2xlarge",
    "vcpuNum": 8
   },
   {
    "_defaultOrder": 15,
    "_isFastLaunch": false,
    "category": "General purpose",
    "gpuNum": 0,
    "hideHardwareSpecs": false,
    "memoryGiB": 64,
    "name": "ml.m5d.4xlarge",
    "vcpuNum": 16
   },
   {
    "_defaultOrder": 16,
    "_isFastLaunch": false,
    "category": "General purpose",
    "gpuNum": 0,
    "hideHardwareSpecs": false,
    "memoryGiB": 128,
    "name": "ml.m5d.8xlarge",
    "vcpuNum": 32
   },
   {
    "_defaultOrder": 17,
    "_isFastLaunch": false,
    "category": "General purpose",
    "gpuNum": 0,
    "hideHardwareSpecs": false,
    "memoryGiB": 192,
    "name": "ml.m5d.12xlarge",
    "vcpuNum": 48
   },
   {
    "_defaultOrder": 18,
    "_isFastLaunch": false,
    "category": "General purpose",
    "gpuNum": 0,
    "hideHardwareSpecs": false,
    "memoryGiB": 256,
    "name": "ml.m5d.16xlarge",
    "vcpuNum": 64
   },
   {
    "_defaultOrder": 19,
    "_isFastLaunch": false,
    "category": "General purpose",
    "gpuNum": 0,
    "hideHardwareSpecs": false,
    "memoryGiB": 384,
    "name": "ml.m5d.24xlarge",
    "vcpuNum": 96
   },
   {
    "_defaultOrder": 20,
    "_isFastLaunch": false,
    "category": "General purpose",
    "gpuNum": 0,
    "hideHardwareSpecs": true,
    "memoryGiB": 0,
    "name": "ml.geospatial.interactive",
    "supportedImageNames": [
     "sagemaker-geospatial-v1-0"
    ],
    "vcpuNum": 0
   },
   {
    "_defaultOrder": 21,
    "_isFastLaunch": true,
    "category": "Compute optimized",
    "gpuNum": 0,
    "hideHardwareSpecs": false,
    "memoryGiB": 4,
    "name": "ml.c5.large",
    "vcpuNum": 2
   },
   {
    "_defaultOrder": 22,
    "_isFastLaunch": false,
    "category": "Compute optimized",
    "gpuNum": 0,
    "hideHardwareSpecs": false,
    "memoryGiB": 8,
    "name": "ml.c5.xlarge",
    "vcpuNum": 4
   },
   {
    "_defaultOrder": 23,
    "_isFastLaunch": false,
    "category": "Compute optimized",
    "gpuNum": 0,
    "hideHardwareSpecs": false,
    "memoryGiB": 16,
    "name": "ml.c5.2xlarge",
    "vcpuNum": 8
   },
   {
    "_defaultOrder": 24,
    "_isFastLaunch": false,
    "category": "Compute optimized",
    "gpuNum": 0,
    "hideHardwareSpecs": false,
    "memoryGiB": 32,
    "name": "ml.c5.4xlarge",
    "vcpuNum": 16
   },
   {
    "_defaultOrder": 25,
    "_isFastLaunch": false,
    "category": "Compute optimized",
    "gpuNum": 0,
    "hideHardwareSpecs": false,
    "memoryGiB": 72,
    "name": "ml.c5.9xlarge",
    "vcpuNum": 36
   },
   {
    "_defaultOrder": 26,
    "_isFastLaunch": false,
    "category": "Compute optimized",
    "gpuNum": 0,
    "hideHardwareSpecs": false,
    "memoryGiB": 96,
    "name": "ml.c5.12xlarge",
    "vcpuNum": 48
   },
   {
    "_defaultOrder": 27,
    "_isFastLaunch": false,
    "category": "Compute optimized",
    "gpuNum": 0,
    "hideHardwareSpecs": false,
    "memoryGiB": 144,
    "name": "ml.c5.18xlarge",
    "vcpuNum": 72
   },
   {
    "_defaultOrder": 28,
    "_isFastLaunch": false,
    "category": "Compute optimized",
    "gpuNum": 0,
    "hideHardwareSpecs": false,
    "memoryGiB": 192,
    "name": "ml.c5.24xlarge",
    "vcpuNum": 96
   },
   {
    "_defaultOrder": 29,
    "_isFastLaunch": true,
    "category": "Accelerated computing",
    "gpuNum": 1,
    "hideHardwareSpecs": false,
    "memoryGiB": 16,
    "name": "ml.g4dn.xlarge",
    "vcpuNum": 4
   },
   {
    "_defaultOrder": 30,
    "_isFastLaunch": false,
    "category": "Accelerated computing",
    "gpuNum": 1,
    "hideHardwareSpecs": false,
    "memoryGiB": 32,
    "name": "ml.g4dn.2xlarge",
    "vcpuNum": 8
   },
   {
    "_defaultOrder": 31,
    "_isFastLaunch": false,
    "category": "Accelerated computing",
    "gpuNum": 1,
    "hideHardwareSpecs": false,
    "memoryGiB": 64,
    "name": "ml.g4dn.4xlarge",
    "vcpuNum": 16
   },
   {
    "_defaultOrder": 32,
    "_isFastLaunch": false,
    "category": "Accelerated computing",
    "gpuNum": 1,
    "hideHardwareSpecs": false,
    "memoryGiB": 128,
    "name": "ml.g4dn.8xlarge",
    "vcpuNum": 32
   },
   {
    "_defaultOrder": 33,
    "_isFastLaunch": false,
    "category": "Accelerated computing",
    "gpuNum": 4,
    "hideHardwareSpecs": false,
    "memoryGiB": 192,
    "name": "ml.g4dn.12xlarge",
    "vcpuNum": 48
   },
   {
    "_defaultOrder": 34,
    "_isFastLaunch": false,
    "category": "Accelerated computing",
    "gpuNum": 1,
    "hideHardwareSpecs": false,
    "memoryGiB": 256,
    "name": "ml.g4dn.16xlarge",
    "vcpuNum": 64
   },
   {
    "_defaultOrder": 35,
    "_isFastLaunch": false,
    "category": "Accelerated computing",
    "gpuNum": 1,
    "hideHardwareSpecs": false,
    "memoryGiB": 61,
    "name": "ml.p3.2xlarge",
    "vcpuNum": 8
   },
   {
    "_defaultOrder": 36,
    "_isFastLaunch": false,
    "category": "Accelerated computing",
    "gpuNum": 4,
    "hideHardwareSpecs": false,
    "memoryGiB": 244,
    "name": "ml.p3.8xlarge",
    "vcpuNum": 32
   },
   {
    "_defaultOrder": 37,
    "_isFastLaunch": false,
    "category": "Accelerated computing",
    "gpuNum": 8,
    "hideHardwareSpecs": false,
    "memoryGiB": 488,
    "name": "ml.p3.16xlarge",
    "vcpuNum": 64
   },
   {
    "_defaultOrder": 38,
    "_isFastLaunch": false,
    "category": "Accelerated computing",
    "gpuNum": 8,
    "hideHardwareSpecs": false,
    "memoryGiB": 768,
    "name": "ml.p3dn.24xlarge",
    "vcpuNum": 96
   },
   {
    "_defaultOrder": 39,
    "_isFastLaunch": false,
    "category": "Memory Optimized",
    "gpuNum": 0,
    "hideHardwareSpecs": false,
    "memoryGiB": 16,
    "name": "ml.r5.large",
    "vcpuNum": 2
   },
   {
    "_defaultOrder": 40,
    "_isFastLaunch": false,
    "category": "Memory Optimized",
    "gpuNum": 0,
    "hideHardwareSpecs": false,
    "memoryGiB": 32,
    "name": "ml.r5.xlarge",
    "vcpuNum": 4
   },
   {
    "_defaultOrder": 41,
    "_isFastLaunch": false,
    "category": "Memory Optimized",
    "gpuNum": 0,
    "hideHardwareSpecs": false,
    "memoryGiB": 64,
    "name": "ml.r5.2xlarge",
    "vcpuNum": 8
   },
   {
    "_defaultOrder": 42,
    "_isFastLaunch": false,
    "category": "Memory Optimized",
    "gpuNum": 0,
    "hideHardwareSpecs": false,
    "memoryGiB": 128,
    "name": "ml.r5.4xlarge",
    "vcpuNum": 16
   },
   {
    "_defaultOrder": 43,
    "_isFastLaunch": false,
    "category": "Memory Optimized",
    "gpuNum": 0,
    "hideHardwareSpecs": false,
    "memoryGiB": 256,
    "name": "ml.r5.8xlarge",
    "vcpuNum": 32
   },
   {
    "_defaultOrder": 44,
    "_isFastLaunch": false,
    "category": "Memory Optimized",
    "gpuNum": 0,
    "hideHardwareSpecs": false,
    "memoryGiB": 384,
    "name": "ml.r5.12xlarge",
    "vcpuNum": 48
   },
   {
    "_defaultOrder": 45,
    "_isFastLaunch": false,
    "category": "Memory Optimized",
    "gpuNum": 0,
    "hideHardwareSpecs": false,
    "memoryGiB": 512,
    "name": "ml.r5.16xlarge",
    "vcpuNum": 64
   },
   {
    "_defaultOrder": 46,
    "_isFastLaunch": false,
    "category": "Memory Optimized",
    "gpuNum": 0,
    "hideHardwareSpecs": false,
    "memoryGiB": 768,
    "name": "ml.r5.24xlarge",
    "vcpuNum": 96
   },
   {
    "_defaultOrder": 47,
    "_isFastLaunch": false,
    "category": "Accelerated computing",
    "gpuNum": 1,
    "hideHardwareSpecs": false,
    "memoryGiB": 16,
    "name": "ml.g5.xlarge",
    "vcpuNum": 4
   },
   {
    "_defaultOrder": 48,
    "_isFastLaunch": false,
    "category": "Accelerated computing",
    "gpuNum": 1,
    "hideHardwareSpecs": false,
    "memoryGiB": 32,
    "name": "ml.g5.2xlarge",
    "vcpuNum": 8
   },
   {
    "_defaultOrder": 49,
    "_isFastLaunch": false,
    "category": "Accelerated computing",
    "gpuNum": 1,
    "hideHardwareSpecs": false,
    "memoryGiB": 64,
    "name": "ml.g5.4xlarge",
    "vcpuNum": 16
   },
   {
    "_defaultOrder": 50,
    "_isFastLaunch": false,
    "category": "Accelerated computing",
    "gpuNum": 1,
    "hideHardwareSpecs": false,
    "memoryGiB": 128,
    "name": "ml.g5.8xlarge",
    "vcpuNum": 32
   },
   {
    "_defaultOrder": 51,
    "_isFastLaunch": false,
    "category": "Accelerated computing",
    "gpuNum": 1,
    "hideHardwareSpecs": false,
    "memoryGiB": 256,
    "name": "ml.g5.16xlarge",
    "vcpuNum": 64
   },
   {
    "_defaultOrder": 52,
    "_isFastLaunch": false,
    "category": "Accelerated computing",
    "gpuNum": 4,
    "hideHardwareSpecs": false,
    "memoryGiB": 192,
    "name": "ml.g5.12xlarge",
    "vcpuNum": 48
   },
   {
    "_defaultOrder": 53,
    "_isFastLaunch": false,
    "category": "Accelerated computing",
    "gpuNum": 4,
    "hideHardwareSpecs": false,
    "memoryGiB": 384,
    "name": "ml.g5.24xlarge",
    "vcpuNum": 96
   },
   {
    "_defaultOrder": 54,
    "_isFastLaunch": false,
    "category": "Accelerated computing",
    "gpuNum": 8,
    "hideHardwareSpecs": false,
    "memoryGiB": 768,
    "name": "ml.g5.48xlarge",
    "vcpuNum": 192
   },
   {
    "_defaultOrder": 55,
    "_isFastLaunch": false,
    "category": "Accelerated computing",
    "gpuNum": 8,
    "hideHardwareSpecs": false,
    "memoryGiB": 1152,
    "name": "ml.p4d.24xlarge",
    "vcpuNum": 96
   },
   {
    "_defaultOrder": 56,
    "_isFastLaunch": false,
    "category": "Accelerated computing",
    "gpuNum": 8,
    "hideHardwareSpecs": false,
    "memoryGiB": 1152,
    "name": "ml.p4de.24xlarge",
    "vcpuNum": 96
   },
   {
    "_defaultOrder": 57,
    "_isFastLaunch": false,
    "category": "Accelerated computing",
    "gpuNum": 0,
    "hideHardwareSpecs": false,
    "memoryGiB": 32,
    "name": "ml.trn1.2xlarge",
    "vcpuNum": 8
   },
   {
    "_defaultOrder": 58,
    "_isFastLaunch": false,
    "category": "Accelerated computing",
    "gpuNum": 0,
    "hideHardwareSpecs": false,
    "memoryGiB": 512,
    "name": "ml.trn1.32xlarge",
    "vcpuNum": 128
   },
   {
    "_defaultOrder": 59,
    "_isFastLaunch": false,
    "category": "Accelerated computing",
    "gpuNum": 0,
    "hideHardwareSpecs": false,
    "memoryGiB": 512,
    "name": "ml.trn1n.32xlarge",
    "vcpuNum": 128
   }
  ],
  "instance_type": "ml.t3.medium",
  "kernelspec": {
   "display_name": "Python 3 (Data Science 3.0)",
   "language": "python",
   "name": "python3__SAGEMAKER_INTERNAL__arn:aws:sagemaker:us-east-1:081325390199:image/sagemaker-data-science-310-v1"
  },
  "language_info": {
   "codemirror_mode": {
    "name": "ipython",
    "version": 3
   },
   "file_extension": ".py",
   "mimetype": "text/x-python",
   "name": "python",
   "nbconvert_exporter": "python",
   "pygments_lexer": "ipython3",
   "version": "3.10.6"
  }
 },
 "nbformat": 4,
 "nbformat_minor": 5
}
